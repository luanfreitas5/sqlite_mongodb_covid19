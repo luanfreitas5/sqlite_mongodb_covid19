{
 "cells": [
  {
   "cell_type": "code",
   "execution_count": 1,
   "metadata": {},
   "outputs": [],
   "source": [
    "import sqlite3\n",
    "import pymongo\n",
    "import time\n",
    "import matplotlib.pyplot as plt\n",
    "import pandas as pd\n",
    "db_path = 'datasets/vacinacao_covid_df.db'"
   ]
  },
  {
   "cell_type": "code",
   "execution_count": 2,
   "metadata": {},
   "outputs": [],
   "source": [
    "# Funções CRUD para SQLite\n",
    "def sqlite_crud_operations():\n",
    "    conn = sqlite3.connect(db_path)\n",
    "    cursor = conn.cursor()\n",
    "\n",
    "    # Insira uma linha de dados\n",
    "    start_time = time.time()\n",
    "    query = \"\"\"\n",
    "INSERT INTO vacinacao_covid_df (\n",
    "    document_id, \n",
    "    paciente_id, \n",
    "    paciente_idade, \n",
    "    paciente_dataNascimento, \n",
    "    paciente_enumSexoBiologico, \n",
    "    paciente_racaCor_codigo, \n",
    "    paciente_racaCor_valor, \n",
    "    paciente_endereco_coIbgeMunicipio, \n",
    "    paciente_endereco_coPais, \n",
    "    paciente_endereco_nmMunicipio, \n",
    "    paciente_endereco_nmPais, \n",
    "    paciente_endereco_uf, \n",
    "    paciente_endereco_cep, \n",
    "    paciente_nacionalidade_enumNacionalidade, \n",
    "    estabelecimento_valor, \n",
    "    estabelecimento_razaoSocial, \n",
    "    estalecimento_noFantasia, \n",
    "    estabelecimento_municipio_codigo, \n",
    "    estabelecimento_municipio_nome, \n",
    "    estabelecimento_uf, \n",
    "    vacina_grupoAtendimento_codigo, \n",
    "    vacina_grupoAtendimento_nome, \n",
    "    vacina_categoria_codigo, \n",
    "    vacina_categoria_nome, \n",
    "    vacina_lote, \n",
    "    vacina_fabricante_nome, \n",
    "    vacina_fabricante_referencia, \n",
    "    vacina_dataAplicacao, \n",
    "    vacina_descricao_dose, \n",
    "    vacina_codigo, \n",
    "    vacina_nome, sistema_origem\n",
    ") VALUES (\n",
    "    999999, 'pac_999999', 30, '1990-01-01', \n",
    "    'F', 1, 'Branca', 3550308, \n",
    "    33, 'São Paulo', 'Brasil', 'SP', \n",
    "    '01000-000', 1, '123456', 'Razao Social', \n",
    "    'Fantasia', 3550308, 'São Paulo', 'SP', \n",
    "    1, 'Saúde', 1, 'Campanha', \n",
    "    'Lote1234', 'FabricanteX', \n",
    "    'Ref1234', '2023-01-01', \n",
    "    '1ª Dose', 'VAC1234', \n",
    "    'VacinaX', 'SistemaX'\n",
    ")\n",
    "\"\"\"\n",
    "    cursor.execute(query)\n",
    "    conn.commit()\n",
    "    insert_time = time.time() - start_time\n",
    "\n",
    "    # Consultar o banco de dados\n",
    "    start_time = time.time()\n",
    "    cursor.execute(\"SELECT * FROM vacinacao_covid_df WHERE document_id = 999999\")\n",
    "    rows = cursor.fetchall()\n",
    "    query_time = time.time() - start_time\n",
    "\n",
    "    # Atualizar uma linha de dados\n",
    "    start_time = time.time()\n",
    "    cursor.execute(\"UPDATE vacinacao_covid_df SET paciente_idade = 31 WHERE document_id = 999999\")\n",
    "    conn.commit()\n",
    "    update_time = time.time() - start_time\n",
    "\n",
    "    # Excluir uma linha de dados\n",
    "    start_time = time.time()\n",
    "    cursor.execute(\"DELETE FROM vacinacao_covid_df WHERE document_id = 999999\")\n",
    "    conn.commit()\n",
    "    delete_time = time.time() - start_time\n",
    "\n",
    "    # Fechar a conexão\n",
    "    conn.close()\n",
    "\n",
    "    return insert_time, query_time, update_time, delete_time\n",
    "\n",
    "# Funções CRUD para MongoDB Atlas\n",
    "def mongodb_crud_operations():\n",
    "    # Definição das variáveis\n",
    "    usuario = \"\"\n",
    "    senha = \"\"\n",
    "    nome_cluster = \"\"\n",
    "    host = f\"{nome_cluster}.74rj5.mongodb.net\"\n",
    "    parametros = f\"?retryWrites=true&w=majority&appName={nome_cluster}\"\n",
    "\n",
    "    uri = f\"mongodb+srv://{usuario}:{senha}@{host}/{parametros}\"\n",
    "    client = pymongo.MongoClient(uri)\n",
    "    db = client.test\n",
    "    collection = db.example_collection\n",
    "\n",
    "    # Inserir um documento\n",
    "    start_time = time.time()\n",
    "    collection.insert_one({\"document_id\": 999999, \"paciente_id\": \"pac_999999\", \n",
    "                           \"paciente_idade\": 30, \"paciente_dataNascimento\": \"1990-01-01\", \n",
    "                           \"paciente_enumSexoBiologico\": \"F\", \"paciente_racaCor_codigo\": 1, \n",
    "                           \"paciente_racaCor_valor\": \"Branca\", \"paciente_endereco_coIbgeMunicipio\": 3550308, \n",
    "                           \"paciente_endereco_coPais\": 33, \"paciente_endereco_nmMunicipio\": \n",
    "                           \"São Paulo\", \"paciente_endereco_nmPais\": \"Brasil\", \"paciente_endereco_uf\": \"SP\", \n",
    "                           \"paciente_endereco_cep\": \"01000-000\", \"paciente_nacionalidade_enumNacionalidade\": 1, \n",
    "                           \"estabelecimento_valor\": \"123456\", \"estabelecimento_razaoSocial\": \"Razao Social\", \n",
    "                           \"estalecimento_noFantasia\": \"Fantasia\", \"estabelecimento_municipio_codigo\": 3550308, \n",
    "                           \"estabelecimento_municipio_nome\": \"São Paulo\", \"estabelecimento_uf\": \"SP\", \n",
    "                           \"vacina_grupoAtendimento_codigo\": 1, \"vacina_grupoAtendimento_nome\": \"Saúde\", \n",
    "                           \"vacina_categoria_codigo\": 1, \"vacina_categoria_nome\": \"Campanha\", \"vacina_lote\": \n",
    "                           \"Lote1234\", \"vacina_fabricante_nome\": \"FabricanteX\", \"vacina_fabricante_referencia\": \n",
    "                           \"Ref1234\", \"vacina_dataAplicacao\": \"2023-01-01\", \"vacina_descricao_dose\": \n",
    "                           \"1ª Dose\", \"vacina_codigo\": \"VAC1234\", \"vacina_nome\": \"VacinaX\", \"sistema_origem\": \"SistemaX\"})\n",
    "    insert_time = time.time() - start_time\n",
    "\n",
    "    # Consultar a coleção\n",
    "    start_time = time.time()\n",
    "    document = collection.find_one({\"document_id\": 999999})\n",
    "    query_time = time.time() - start_time\n",
    "\n",
    "    # Atualizar um documento\n",
    "    start_time = time.time()\n",
    "    collection.update_one({\"document_id\": 999999}, {\"$set\": {\"paciente_idade\": 31}})\n",
    "    update_time = time.time() - start_time\n",
    "\n",
    "    # Excluir um documento\n",
    "    start_time = time.time()\n",
    "    collection.delete_one({\"document_id\": 999999})\n",
    "    delete_time = time.time() - start_time\n",
    "\n",
    "    # Fecha a conexão\n",
    "    client.close()\n",
    "\n",
    "    return insert_time, query_time, update_time, delete_time\n"
   ]
  },
  {
   "cell_type": "code",
   "execution_count": 8,
   "metadata": {},
   "outputs": [],
   "source": [
    "# Executa operações CRUD e mede o tempo de execução\n",
    "sqlite_times = sqlite_crud_operations()\n"
   ]
  },
  {
   "cell_type": "code",
   "execution_count": null,
   "metadata": {},
   "outputs": [],
   "source": [
    "mongodb_times = mongodb_crud_operations()"
   ]
  },
  {
   "cell_type": "code",
   "execution_count": 18,
   "metadata": {},
   "outputs": [
    {
     "data": {
      "image/png": "[encoded data removed]",
      "text/plain": [
       "<Figure size 1000x500 with 1 Axes>"
      ]
     },
     "metadata": {},
     "output_type": "display_data"
    }
   ],
   "source": [
    "\n",
    "# Plota os tempos de execução\n",
    "labels = ['Insert', 'Select', 'Update', 'Delete']\n",
    "x = range(len(labels))\n",
    "\n",
    "plt.figure(figsize=(10, 5))\n",
    "plt.bar(x, sqlite_times, width=0.4, label='SQLite', align='center')\n",
    "plt.bar(x, mongodb_times, width=0.4, label='MongoDB', align='edge')\n",
    "plt.xlabel('Operations')\n",
    "plt.ylabel('Time (seconds)')\n",
    "plt.title('Desempenho da Operações CRUD: SQLite vs MongoDB')\n",
    "plt.xticks(x, labels)\n",
    "plt.legend()\n",
    "plt.savefig('plots/desempenho_sqlite_mongodb_times.png') \n",
    "plt.show()\n"
   ]
  },
  {
   "cell_type": "code",
   "execution_count": 30,
   "metadata": {},
   "outputs": [
    {
     "data": {
      "text/html": [
       "<div>\n",
       "<style scoped>\n",
       "    .dataframe tbody tr th:only-of-type {\n",
       "        vertical-align: middle;\n",
       "    }\n",
       "\n",
       "    .dataframe tbody tr th {\n",
       "        vertical-align: top;\n",
       "    }\n",
       "\n",
       "    .dataframe thead th {\n",
       "        text-align: right;\n",
       "    }\n",
       "</style>\n",
       "<table border=\"1\" class=\"dataframe\">\n",
       "  <thead>\n",
       "    <tr style=\"text-align: right;\">\n",
       "      <th></th>\n",
       "      <th>Operação CRUD</th>\n",
       "      <th>Time (seconds) SQLite</th>\n",
       "      <th>Time (seconds) MongoDB</th>\n",
       "    </tr>\n",
       "  </thead>\n",
       "  <tbody>\n",
       "    <tr>\n",
       "      <th>0</th>\n",
       "      <td>Insert</td>\n",
       "      <td>0.04</td>\n",
       "      <td>0.53</td>\n",
       "    </tr>\n",
       "    <tr>\n",
       "      <th>1</th>\n",
       "      <td>Select</td>\n",
       "      <td>2.30</td>\n",
       "      <td>0.03</td>\n",
       "    </tr>\n",
       "    <tr>\n",
       "      <th>2</th>\n",
       "      <td>Update</td>\n",
       "      <td>2.51</td>\n",
       "      <td>0.05</td>\n",
       "    </tr>\n",
       "    <tr>\n",
       "      <th>3</th>\n",
       "      <td>Delete</td>\n",
       "      <td>2.66</td>\n",
       "      <td>0.03</td>\n",
       "    </tr>\n",
       "  </tbody>\n",
       "</table>\n",
       "</div>"
      ],
      "text/plain": [
       "  Operação CRUD  Time (seconds) SQLite  Time (seconds) MongoDB\n",
       "0        Insert                   0.04                    0.53\n",
       "1        Select                   2.30                    0.03\n",
       "2        Update                   2.51                    0.05\n",
       "3        Delete                   2.66                    0.03"
      ]
     },
     "execution_count": 30,
     "metadata": {},
     "output_type": "execute_result"
    }
   ],
   "source": [
    "# Cria uma tabela de tempos de execução\n",
    "df = pd.DataFrame({\n",
    "    'Operação CRUD': labels,\n",
    "    'Time (seconds) SQLite': sqlite_times,\n",
    "    'Time (seconds) MongoDB': mongodb_times\n",
    "})\n",
    "\n",
    "df.to_csv('desempenho_sqlite_mongodb_times.csv', sep=';', index=False)\n",
    "\n",
    "df['Time (seconds) SQLite'] = df['Time (seconds) SQLite'].round(2)\n",
    "df['Time (seconds) MongoDB'] = df['Time (seconds) MongoDB'].round(2)\n",
    "\n",
    "\n",
    "# Exibe a tabela\n",
    "df"
   ]
  },
  {
   "cell_type": "code",
   "execution_count": 5,
   "metadata": {},
   "outputs": [
    {
     "data": {
      "text/plain": [
       "(0.051868438720703125,\n",
       " 23.2080295085907,\n",
       " 2.7103588581085205,\n",
       " 2.6794607639312744)"
      ]
     },
     "execution_count": 5,
     "metadata": {},
     "output_type": "execute_result"
    }
   ],
   "source": [
    "sqlite_times"
   ]
  },
  {
   "cell_type": "code",
   "execution_count": 7,
   "metadata": {},
   "outputs": [
    {
     "data": {
      "text/plain": [
       "(0.5288810729980469,\n",
       " 0.02819061279296875,\n",
       " 0.04626297950744629,\n",
       " 0.03142070770263672)"
      ]
     },
     "execution_count": 7,
     "metadata": {},
     "output_type": "execute_result"
    }
   ],
   "source": [
    "mongodb_times"
   ]
  }
 ],
 "metadata": {
  "kernelspec": {
   "display_name": "py311",
   "language": "python",
   "name": "python3"
  },
  "language_info": {
   "codemirror_mode": {
    "name": "ipython",
    "version": 3
   },
   "file_extension": ".py",
   "mimetype": "text/x-python",
   "name": "python",
   "nbconvert_exporter": "python",
   "pygments_lexer": "ipython3",
   "version": "3.11.9"
  }
 },
 "nbformat": 4,
 "nbformat_minor": 2
}
